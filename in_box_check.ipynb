{
 "metadata": {
  "name": "in_box_check"
 }, 
 "nbformat": 2, 
 "worksheets": [
  {
   "cells": [
    {
     "cell_type": "code", 
     "collapsed": true, 
     "input": [
      "import numpy as np", 
      "from pycrysray import *", 
      "import matplotlib.pyplot as plt", 
      "from mpl_toolkits.mplot3d import Axes3D", 
      "arr = np.array"
     ], 
     "language": "python", 
     "outputs": [], 
     "prompt_number": 24
    }, 
    {
     "cell_type": "code", 
     "collapsed": false, 
     "input": [
      "cs1 = arr([ [-1,-1,0], [2,2,0], [0,3,2], [-3,0,2] ])", 
      "s1 = Plane(cs1)", 
      "print np.average( cs1, axis=0)", 
      "print s1.cog", 
      "print s1.u, s1.v", 
      "print s1.normal, np.cross( s1.u, s1.v)"
     ], 
     "language": "python", 
     "outputs": [
      {
       "output_type": "stream", 
       "stream": "stdout", 
       "text": [
        "[ 0.33333333  1.33333333  0.66666667]", 
        "[ 0.33333333  1.33333333  0.66666667]", 
        "[-0.48154341 -0.84270097 -0.24077171] [-0.72994645  0.23358286  0.64235288]", 
        "[-0.48507125  0.48507125 -0.72760688] [-0.48507125  0.48507125 -0.72760688]"
       ]
      }
     ], 
     "prompt_number": 25
    }, 
    {
     "cell_type": "code", 
     "collapsed": false, 
     "input": [
      "x = np.random.uniform(-4,4, (1000,2))"
     ], 
     "language": "python", 
     "outputs": [], 
     "prompt_number": 26
    }, 
    {
     "cell_type": "code", 
     "collapsed": false, 
     "input": [
      "uv = np.matrix([s1.u, s1.v])", 
      "print uv", 
      "px= arr(x*uv + s1.cog)"
     ], 
     "language": "python", 
     "outputs": [
      {
       "output_type": "stream", 
       "stream": "stdout", 
       "text": [
        "[[-0.48154341 -0.84270097 -0.24077171]", 
        " [-0.72994645  0.23358286  0.64235288]]"
       ]
      }
     ], 
     "prompt_number": 27
    }, 
    {
     "cell_type": "code", 
     "collapsed": false, 
     "input": [
      "# Test in or out", 
      "px1 = []", 
      "px2 = []", 
      "for p in px:", 
      "    if ( s1.in_polygon(p) ): px1.append(p)", 
      "    else: px2.append(p)", 
      "px1= arr(px1)", 
      "px2= arr(px2)"
     ], 
     "language": "python", 
     "outputs": [], 
     "prompt_number": 28
    }, 
    {
     "cell_type": "code", 
     "collapsed": false, 
     "input": [
      "fig = plt.figure(figsize=(10,8))", 
      "ax = fig.add_subplot(111, projection='3d')", 
      "pts= np.concatenate((s1.corners, [s1.corners[0]]))", 
      "ax.plot(pts[:,0],pts[:,1],pts[:,2], color='b')", 
      "ax.scatter(px1[:,0], px1[:,1], px1[:,2], c='g')", 
      "ax.scatter(px2[:,0], px2[:,1], px2[:,2], c='r')", 
      "plt.show()"
     ], 
     "language": "python", 
     "outputs": [], 
     "prompt_number": "*"
    }, 
    {
     "cell_type": "code", 
     "collapsed": true, 
     "input": [], 
     "language": "python", 
     "outputs": [], 
     "prompt_number": "*"
    }
   ]
  }
 ]
}